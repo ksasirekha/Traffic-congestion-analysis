{
 "cells": [
  {
   "cell_type": "code",
   "execution_count": 8,
   "metadata": {},
   "outputs": [],
   "source": [
    "# Dataset: [road_width, traffic_volume]\n",
    "data = [\n",
    "    [10, 500],\n",
    "    [8, 1000],\n",
    "    [6, 1500],\n",
    "    [12, 400],\n",
    "    [7, 1200],\n",
    "    [5, 1800]\n",
    "]"
   ]
  },
  {
   "cell_type": "code",
   "execution_count": 9,
   "metadata": {},
   "outputs": [],
   "source": [
    "def euclidean_distance(point1, point2):\n",
    "    return sum((point1[i] - point2[i]) ** 2 for i in range(len(point1))) ** 0.5\n"
   ]
  },
  {
   "cell_type": "code",
   "execution_count": 10,
   "metadata": {},
   "outputs": [],
   "source": [
    "def assign_clusters(data, centers):\n",
    "    clusters = {}\n",
    "    for i in range(len(centers)):\n",
    "        clusters[i] = []  \n",
    "\n",
    "    for point in data:\n",
    "        distances = [euclidean_distance(point, center) for center in centers]\n",
    "        closest_center = distances.index(min(distances))\n",
    "        clusters[closest_center].append(point)\n",
    "\n",
    "    return clusters\n"
   ]
  },
  {
   "cell_type": "code",
   "execution_count": 11,
   "metadata": {},
   "outputs": [],
   "source": [
    "def calculate_new_centers(clusters):\n",
    "    new_centers = []\n",
    "    for points in clusters.values():\n",
    "        if points:  \n",
    "            new_center = [sum(coord) / len(points) for coord in zip(*points)]\n",
    "            new_centers.append(new_center)\n",
    "        else:\n",
    "            new_centers.append([0, 0])  \n",
    "    return new_centers\n"
   ]
  },
  {
   "cell_type": "code",
   "execution_count": 12,
   "metadata": {},
   "outputs": [],
   "source": [
    "import random\n",
    "\n",
    "def k_means_clustering(data, k, max_iterations=100):\n",
    "    centers = random.sample(data, k)\n",
    "    print(f\"Initial Centers: {centers}\")\n",
    "\n",
    "    for iteration in range(max_iterations):\n",
    "        clusters = assign_clusters(data, centers)\n",
    "\n",
    "        new_centers = calculate_new_centers(clusters)\n",
    "\n",
    "        print(f\"Iteration {iteration + 1}:\")\n",
    "        print(f\"Clusters: {clusters}\")\n",
    "        print(f\"New Centers: {new_centers}\")\n",
    "\n",
    "        if new_centers == centers:\n",
    "            print(\"Convergence reached.\")\n",
    "            break\n",
    "\n",
    "        centers = new_centers\n",
    "\n",
    "    return clusters, centers\n"
   ]
  },
  {
   "cell_type": "code",
   "execution_count": 13,
   "metadata": {},
   "outputs": [
    {
     "name": "stdout",
     "output_type": "stream",
     "text": [
      "Initial Centers: [[12, 400], [10, 500]]\n",
      "Iteration 1:\n",
      "Clusters: {0: [[12, 400]], 1: [[10, 500], [8, 1000], [6, 1500], [7, 1200], [5, 1800]]}\n",
      "New Centers: [[12.0, 400.0], [7.2, 1200.0]]\n",
      "Iteration 2:\n",
      "Clusters: {0: [[10, 500], [12, 400]], 1: [[8, 1000], [6, 1500], [7, 1200], [5, 1800]]}\n",
      "New Centers: [[11.0, 450.0], [6.5, 1375.0]]\n",
      "Iteration 3:\n",
      "Clusters: {0: [[10, 500], [12, 400]], 1: [[8, 1000], [6, 1500], [7, 1200], [5, 1800]]}\n",
      "New Centers: [[11.0, 450.0], [6.5, 1375.0]]\n",
      "Convergence reached.\n",
      "Final Clusters: {0: [[10, 500], [12, 400]], 1: [[8, 1000], [6, 1500], [7, 1200], [5, 1800]]}\n",
      "Final Centers: [[11.0, 450.0], [6.5, 1375.0]]\n"
     ]
    }
   ],
   "source": [
    "k = 2\n",
    "\n",
    "clusters, final_centers = k_means_clustering(data, k)\n",
    "\n",
    "print(f\"Final Clusters: {clusters}\")\n",
    "print(f\"Final Centers: {final_centers}\")\n"
   ]
  },
  {
   "cell_type": "code",
   "execution_count": 14,
   "metadata": {},
   "outputs": [
    {
     "name": "stdout",
     "output_type": "stream",
     "text": [
      "WCSS: 372507.00\n"
     ]
    }
   ],
   "source": [
    "def calculate_wcss(clusters, centers):\n",
    "    wcss = 0\n",
    "    for cluster_idx, points in clusters.items():\n",
    "        for point in points:\n",
    "            wcss += euclidean_distance(point, centers[cluster_idx]) ** 2\n",
    "    return wcss\n",
    "\n",
    "wcss = calculate_wcss(clusters, final_centers)\n",
    "print(f\"WCSS: {wcss:.2f}\")"
   ]
  },
  {
   "cell_type": "code",
   "execution_count": null,
   "metadata": {},
   "outputs": [],
   "source": []
  }
 ],
 "metadata": {
  "kernelspec": {
   "display_name": "Python 3",
   "language": "python",
   "name": "python3"
  },
  "language_info": {
   "codemirror_mode": {
    "name": "ipython",
    "version": 3
   },
   "file_extension": ".py",
   "mimetype": "text/x-python",
   "name": "python",
   "nbconvert_exporter": "python",
   "pygments_lexer": "ipython3",
   "version": "3.12.8"
  }
 },
 "nbformat": 4,
 "nbformat_minor": 2
}
