{
 "cells": [
  {
   "cell_type": "code",
   "execution_count": 1,
   "metadata": {},
   "outputs": [],
   "source": [
    "# Dataset: [road_width, traffic_volume, avg_speed]\n",
    "data = [\n",
    "    [10, 500, 60],\n",
    "    [8, 1000, 40],\n",
    "    [6, 1500, 20],\n",
    "    [12, 400, 70],\n",
    "    [7, 1200, 30],\n",
    "    [5, 1800, 15]\n",
    "]"
   ]
  },
  {
   "cell_type": "code",
   "execution_count": 2,
   "metadata": {},
   "outputs": [
    {
     "name": "stdout",
     "output_type": "stream",
     "text": [
      "Feature Means: [8.0, 1066.6666666666667, 39.166666666666664]\n"
     ]
    }
   ],
   "source": [
    "def calculate_mean(data):\n",
    "    return [sum(column) / len(column) for column in zip(*data)]\n",
    "\n",
    "mean = calculate_mean(data)\n",
    "print(f\"Feature Means: {mean}\")\n"
   ]
  },
  {
   "cell_type": "code",
   "execution_count": 3,
   "metadata": {},
   "outputs": [
    {
     "name": "stdout",
     "output_type": "stream",
     "text": [
      "Centered Data: [[2.0, -566.6666666666667, 20.833333333333336], [0.0, -66.66666666666674, 0.8333333333333357], [-2.0, 433.33333333333326, -19.166666666666664], [4.0, -666.6666666666667, 30.833333333333336], [-1.0, 133.33333333333326, -9.166666666666664], [-3.0, 733.3333333333333, -24.166666666666664]]\n"
     ]
    }
   ],
   "source": [
    "def center_data(data, mean):\n",
    "    return [[value - mean[i] for i, value in enumerate(row)] for row in data]\n",
    "\n",
    "# Center the data\n",
    "centered_data = center_data(data, mean)\n",
    "print(f\"Centered Data: {centered_data}\")"
   ]
  },
  {
   "cell_type": "code",
   "execution_count": 4,
   "metadata": {},
   "outputs": [
    {
     "name": "stdout",
     "output_type": "stream",
     "text": [
      "Covariance Matrix: [[6.8, -1400.0, 57.0], [-1400.0, 302666.6666666666, -11933.333333333332], [57.0, -11933.333333333332, 484.1666666666667]]\n"
     ]
    }
   ],
   "source": [
    "def covariance_matrix(data):\n",
    "    n = len(data)\n",
    "    d = len(data[0])\n",
    "    cov_matrix = [[0.0] * d for _ in range(d)]\n",
    "\n",
    "    for i in range(d):\n",
    "        for j in range(d):\n",
    "            cov_matrix[i][j] = sum(centered_data[k][i] * centered_data[k][j] for k in range(n)) / (n - 1)\n",
    "    \n",
    "    return cov_matrix\n",
    "\n",
    "# Calculate the covariance matrix\n",
    "cov_matrix = covariance_matrix(centered_data)\n",
    "print(f\"Covariance Matrix: {cov_matrix}\")"
   ]
  },
  {
   "cell_type": "code",
   "execution_count": 5,
   "metadata": {},
   "outputs": [
    {
     "name": "stdout",
     "output_type": "stream",
     "text": [
      "Eigenvalues: [302409.3321595308, 302409.3321595308, 302409.3321595308]\n",
      "Eigenvectors: [[-0.004622149016372531, 0.9992129036196306, -0.039398083436854], [-0.004622149016372531, 0.9992129036196306, -0.039398083436854], [-0.004622149016372531, 0.9992129036196306, -0.039398083436854]]\n"
     ]
    }
   ],
   "source": [
    "def power_iteration(matrix, num_simulations=1000):\n",
    "    \"\"\"Compute the dominant eigenvector of a matrix.\"\"\"\n",
    "    b_k = [1] * len(matrix)  # Initialize a random vector\n",
    "    for _ in range(num_simulations):\n",
    "        # Multiply by the matrix\n",
    "        b_k1 = [sum(matrix[i][j] * b_k[j] for j in range(len(matrix))) for i in range(len(matrix))]\n",
    "        # Normalize the vector\n",
    "        norm = sum(x**2 for x in b_k1) ** 0.5\n",
    "        b_k = [x / norm for x in b_k1]\n",
    "    return b_k\n",
    "\n",
    "def eigen_decomposition(matrix):\n",
    "    eigenvalues = []\n",
    "    eigenvectors = []\n",
    "\n",
    "    for _ in range(len(matrix)):\n",
    "        eigenvector = power_iteration(matrix)\n",
    "        eigenvalue = sum(matrix[i][i] * eigenvector[i] for i in range(len(matrix)))\n",
    "        eigenvalues.append(eigenvalue)\n",
    "        eigenvectors.append(eigenvector)\n",
    "    \n",
    "    return eigenvalues, eigenvectors\n",
    "\n",
    "# Perform eigen decomposition\n",
    "eigenvalues, eigenvectors = eigen_decomposition(cov_matrix)\n",
    "print(f\"Eigenvalues: {eigenvalues}\")\n",
    "print(f\"Eigenvectors: {eigenvectors}\")"
   ]
  },
  {
   "cell_type": "code",
   "execution_count": 6,
   "metadata": {},
   "outputs": [
    {
     "name": "stdout",
     "output_type": "stream",
     "text": [
      "Top 2 Components: [[-0.004622149016372531, 0.9992129036196306, -0.039398083436854], [-0.004622149016372531, 0.9992129036196306, -0.039398083436854]]\n"
     ]
    }
   ],
   "source": [
    "def select_top_components(eigenvalues, eigenvectors, k):\n",
    "    eigen_pairs = sorted(zip(eigenvalues, eigenvectors), key=lambda x: x[0], reverse=True)\n",
    "    top_eigenvectors = [pair[1] for pair in eigen_pairs[:k]]\n",
    "    return top_eigenvectors\n",
    "\n",
    "# Select the top 2 components\n",
    "k = 2\n",
    "top_components = select_top_components(eigenvalues, eigenvectors, k)\n",
    "print(f\"Top {k} Components: {top_components}\")"
   ]
  },
  {
   "cell_type": "code",
   "execution_count": 7,
   "metadata": {},
   "outputs": [
    {
     "name": "stdout",
     "output_type": "stream",
     "text": [
      "Projected Data: [[-567.0506830874245, -567.0506830874245], [-66.6470253108395, -66.6470253108395], [433.7566324657456, 433.7566324657456], [-667.3751985817889, -667.3751985817889], [133.59415839647153, 133.59415839647153], [733.7221161178354, 733.7221161178354]]\n"
     ]
    }
   ],
   "source": [
    "def project_data(data, components):\n",
    "    return [[sum(row[i] * components[j][i] for i in range(len(row))) for j in range(len(components))] for row in data]\n",
    "\n",
    "projected_data = project_data(centered_data, top_components)\n",
    "print(f\"Projected Data: {projected_data}\")"
   ]
  },
  {
   "cell_type": "code",
   "execution_count": null,
   "metadata": {},
   "outputs": [],
   "source": []
  }
 ],
 "metadata": {
  "kernelspec": {
   "display_name": "Python 3",
   "language": "python",
   "name": "python3"
  },
  "language_info": {
   "codemirror_mode": {
    "name": "ipython",
    "version": 3
   },
   "file_extension": ".py",
   "mimetype": "text/x-python",
   "name": "python",
   "nbconvert_exporter": "python",
   "pygments_lexer": "ipython3",
   "version": "3.12.8"
  }
 },
 "nbformat": 4,
 "nbformat_minor": 2
}
