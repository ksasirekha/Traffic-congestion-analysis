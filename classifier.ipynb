{
 "cells": [
  {
   "cell_type": "code",
   "execution_count": 2,
   "metadata": {},
   "outputs": [],
   "source": [
    "# Sample dataset (features: road_width, traffic_volume, avg_speed)\n",
    "data = [\n",
    "    [10, 500, 60, \"Low Congestion\"],\n",
    "    [8, 1000, 40, \"Medium Congestion\"],\n",
    "    [6, 1500, 20, \"High Congestion\"],\n",
    "    [12, 400, 70, \"Low Congestion\"],\n",
    "    [7, 1200, 30, \"Medium Congestion\"],\n",
    "    [5, 1800, 15, \"High Congestion\"]\n",
    "]\n",
    "\n",
    "# Convert to features (X) and labels (y)\n",
    "X = [row[:3] for row in data]  # Features: [road_width, traffic_volume, avg_speed]\n",
    "y = [row[3] for row in data]  # Labels: [\"Low Congestion\", ...]\n"
   ]
  },
  {
   "cell_type": "code",
   "execution_count": 3,
   "metadata": {},
   "outputs": [],
   "source": [
    "def euclidean_distance(point1, point2):\n",
    "    distance = 0\n",
    "    for i in range(len(point1)):\n",
    "        distance += (point1[i] - point2[i]) ** 2\n",
    "    return distance ** 0.5\n"
   ]
  },
  {
   "cell_type": "code",
   "execution_count": 4,
   "metadata": {},
   "outputs": [],
   "source": [
    "def knn_classify(new_point, X, y, k=3):\n",
    "    # Calculate distances between the new point and all existing points\n",
    "    distances = []\n",
    "    for i, point in enumerate(X):\n",
    "        dist = euclidean_distance(new_point, point)\n",
    "        distances.append((dist, y[i]))\n",
    "    \n",
    "    # Sort distances and get the top k nearest neighbors\n",
    "    distances.sort(key=lambda x: x[0])\n",
    "    neighbors = distances[:k]\n",
    "    \n",
    "    # Count the frequency of each label in the neighbors\n",
    "    label_count = {}\n",
    "    for _, label in neighbors:\n",
    "        label_count[label] = label_count.get(label, 0) + 1\n",
    "    \n",
    "    # Return the label with the highest frequency\n",
    "    return max(label_count, key=label_count.get)\n"
   ]
  },
  {
   "cell_type": "code",
   "execution_count": 5,
   "metadata": {},
   "outputs": [
    {
     "name": "stdout",
     "output_type": "stream",
     "text": [
      "The predicted congestion level for the point [9, 1100, 35] is: Medium Congestion\n"
     ]
    }
   ],
   "source": [
    "# New data point: [road_width, traffic_volume, avg_speed]\n",
    "new_point = [9, 1100, 35]  # Example input\n",
    "\n",
    "# Perform classification\n",
    "k = 3  # Number of neighbors\n",
    "predicted_label = knn_classify(new_point, X, y, k)\n",
    "\n",
    "print(f\"The predicted congestion level for the point {new_point} is: {predicted_label}\")\n"
   ]
  },
  {
   "cell_type": "code",
   "execution_count": 6,
   "metadata": {},
   "outputs": [
    {
     "name": "stdout",
     "output_type": "stream",
     "text": [
      "Point: [11, 450, 65], True: Low Congestion, Predicted: Low Congestion\n",
      "Point: [6, 1600, 25], True: High Congestion, Predicted: High Congestion\n",
      "Point: [9, 900, 50], True: Medium Congestion, Predicted: Medium Congestion\n",
      "Model Accuracy: 100.00%\n"
     ]
    }
   ],
   "source": [
    "# Test dataset\n",
    "test_data = [\n",
    "    [11, 450, 65, \"Low Congestion\"],\n",
    "    [6, 1600, 25, \"High Congestion\"],\n",
    "    [9, 900, 50, \"Medium Congestion\"]\n",
    "]\n",
    "\n",
    "# Evaluate predictions\n",
    "correct = 0\n",
    "for row in test_data:\n",
    "    test_point = row[:3]\n",
    "    true_label = row[3]\n",
    "    predicted = knn_classify(test_point, X, y, k)\n",
    "    print(f\"Point: {test_point}, True: {true_label}, Predicted: {predicted}\")\n",
    "    if predicted == true_label:\n",
    "        correct += 1\n",
    "\n",
    "accuracy = correct / len(test_data) * 100\n",
    "print(f\"Model Accuracy: {accuracy:.2f}%\")\n"
   ]
  },
  {
   "cell_type": "code",
   "execution_count": null,
   "metadata": {},
   "outputs": [],
   "source": []
  }
 ],
 "metadata": {
  "kernelspec": {
   "display_name": "Python 3",
   "language": "python",
   "name": "python3"
  },
  "language_info": {
   "codemirror_mode": {
    "name": "ipython",
    "version": 3
   },
   "file_extension": ".py",
   "mimetype": "text/x-python",
   "name": "python",
   "nbconvert_exporter": "python",
   "pygments_lexer": "ipython3",
   "version": "3.12.8"
  }
 },
 "nbformat": 4,
 "nbformat_minor": 2
}
